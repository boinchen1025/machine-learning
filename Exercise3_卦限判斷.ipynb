{
 "cells": [
  {
   "cell_type": "code",
   "execution_count": 37,
   "metadata": {},
   "outputs": [
    {
     "name": "stdout",
     "output_type": "stream",
     "text": [
      "該座標在第 4 卦限\n"
     ]
    }
   ],
   "source": [
    "def Guaxian(x,y,z):\n",
    "    G1=[abs(x),abs(y),abs(z)]\n",
    "    G2=[abs(x),-abs(y),abs(z)]\n",
    "    G3=[-abs(x),-abs(y),abs(z)]\n",
    "    G4=[-abs(x),abs(y),abs(z)]\n",
    "    G5=[abs(x),abs(y),-abs(z)]\n",
    "    G6=[abs(x),-abs(y),-abs(z)]\n",
    "    G7=[-abs(x),-abs(y),-abs(z)]\n",
    "    G8=[-abs(x),abs(y),-abs(z)]\n",
    "    A=[G1,G2,G3,G4,G5,G6,G7,G8]\n",
    "    Judge=[]\n",
    "    for list in A:\n",
    "        Judge.append((x+list[0])*(y+list[1])*(z+list[2])) #若在第四卦限 Judge=[0,0,0,(2*x*2*y*2*z),0,0,0,0]\n",
    "    ans=Judge.index((2*x)*(2*y)*(2*z))\n",
    "    final_ans=ans+1\n",
    "    return final_ans\n",
    "\n",
    "print(\"該座標在第\",Guaxian(-3,1,3),\"卦限\")\n",
    "    "
   ]
  },
  {
   "cell_type": "code",
   "execution_count": null,
   "metadata": {},
   "outputs": [],
   "source": []
  }
 ],
 "metadata": {
  "kernelspec": {
   "display_name": "Python 3",
   "language": "python",
   "name": "python3"
  },
  "language_info": {
   "codemirror_mode": {
    "name": "ipython",
    "version": 3
   },
   "file_extension": ".py",
   "mimetype": "text/x-python",
   "name": "python",
   "nbconvert_exporter": "python",
   "pygments_lexer": "ipython3",
   "version": "3.7.2"
  }
 },
 "nbformat": 4,
 "nbformat_minor": 2
}
